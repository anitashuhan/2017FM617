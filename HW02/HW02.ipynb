{
 "cells": [
  {
   "cell_type": "markdown",
   "metadata": {},
   "source": [
    "# HW02"
   ]
  },
  {
   "cell_type": "code",
   "execution_count": 31,
   "metadata": {
    "collapsed": true
   },
   "outputs": [],
   "source": [
    "#載入模組\n",
    "import os"
   ]
  },
  {
   "cell_type": "code",
   "execution_count": 35,
   "metadata": {
    "collapsed": true
   },
   "outputs": [],
   "source": [
    "def main():    #宣告函數mian()\n",
    "    print('hello world!')    #縮進代表語句塊，結尾沒有冒號\n",
    "   \n",
    "    print(\"This is Alice's greeting.\")    #定義字段用單引號跟雙引號都可以\n",
    "    print('This is Bob\\'s greeting.')\n",
    "\n",
    "    foo(5,10)    #調用函數，定義在後面\n",
    "\n",
    "    print('=' * 10)    #(*X)表示重複字串X次，相當於:'=========='\n",
    "    print('Current working directory is'+ os.getcwd())    #+為字串連接符，調用摸組函數\n",
    "    \n",
    "    counter = 0    #必須先實體化變量才可以進一步運算\n",
    "    counter += 1\n",
    "    \n",
    "    food = ['apples','oranges','cats']     #列表可以包含不同型態的數據，甚至可以包含其他列表對象\n",
    "     \n",
    "    for i in food:    #for迴圈，i將會在food中依次取值\n",
    "        print('I like to eat'+ i)    #縮進一級，當近縮回復時語句塊結束\n",
    "    \n",
    "    print('count to ten')    #range函數返回一個數列1:10,for迴圈最後要加冒號:宣告結束\n",
    "    for i in range(10):\n",
    "        print(i)"
   ]
  },
  {
   "cell_type": "code",
   "execution_count": 36,
   "metadata": {
    "collapsed": true
   },
   "outputs": [],
   "source": [
    "def foo(param1,secondParam):    #宣告函數foo，最後要加冒號:宣告結束\n",
    "    res = param1 + secondParam\n",
    "    print('%s plus %s is equal to %s' % (param1,secondParam,res))    #字串格式化輸出\n",
    "    if res<50:    #判定式\n",
    "        print('foo')\n",
    "    elif (res>=50) and ((param1 == 42) or (secondParam == 24)):    #布林變數操作\n",
    "        print('bar')\n",
    "    else:    #if elif else後用冒號宣告結束\n",
    "        print('moo')\n",
    "    return res #This is a one-line comment.\n",
    "    '''A multi-\n",
    "line string, but can also be a multi-line comment'''    #單行註解跟多行註解都可以，只要開頭'''多行註解可以不遵守當前進縮"
   ]
  },
  {
   "cell_type": "code",
   "execution_count": 37,
   "metadata": {},
   "outputs": [
    {
     "name": "stdout",
     "output_type": "stream",
     "text": [
      "hello world!\n",
      "This is Alice's greeting.\n",
      "This is Bob's greeting.\n",
      "5 plus 10 is equal to 15\n",
      "foo\n",
      "==========\n",
      "Current working directory isD:\\anita的资料~\\碩班\\金融投資與程式交易\\2017FM617\\HW02\n",
      "I like to eatapples\n",
      "I like to eatoranges\n",
      "I like to eatcats\n",
      "count to ten\n",
      "0\n",
      "1\n",
      "2\n",
      "3\n",
      "4\n",
      "5\n",
      "6\n",
      "7\n",
      "8\n",
      "9\n"
     ]
    }
   ],
   "source": [
    "if __name__ == '__main__':    #main()放在最後，當運行時才會執行宣告的語句，這樣當作為模組時才不會在島\n",
    "    main()"
   ]
  },
  {
   "cell_type": "code",
   "execution_count": null,
   "metadata": {
    "collapsed": true
   },
   "outputs": [],
   "source": []
  }
 ],
 "metadata": {
  "kernelspec": {
   "display_name": "Python 3",
   "language": "python",
   "name": "python3"
  },
  "language_info": {
   "codemirror_mode": {
    "name": "ipython",
    "version": 3
   },
   "file_extension": ".py",
   "mimetype": "text/x-python",
   "name": "python",
   "nbconvert_exporter": "python",
   "pygments_lexer": "ipython3",
   "version": "3.6.3"
  }
 },
 "nbformat": 4,
 "nbformat_minor": 2
}
