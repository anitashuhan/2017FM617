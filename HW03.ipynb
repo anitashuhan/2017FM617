{
 "cells": [
  {
   "cell_type": "code",
   "execution_count": 11,
   "metadata": {
    "collapsed": true
   },
   "outputs": [],
   "source": [
    "import requests\n",
    "from bs4 import BeautifulSoup"
   ]
  },
  {
   "cell_type": "code",
   "execution_count": 12,
   "metadata": {
    "collapsed": true
   },
   "outputs": [],
   "source": [
    "r = requests.get('http://news.cnyes.com/Content/20151214/20151214080543107512510.shtml?c=headline')\n",
    "r.encoding=\"UFT-8\""
   ]
  },
  {
   "cell_type": "code",
   "execution_count": 13,
   "metadata": {},
   "outputs": [
    {
     "name": "stderr",
     "output_type": "stream",
     "text": [
      "C:\\Users\\admin\\Anaconda3\\lib\\site-packages\\bs4\\__init__.py:181: UserWarning: No parser was explicitly specified, so I'm using the best available HTML parser for this system (\"lxml\"). This usually isn't a problem, but if you run this code on another system, or in a different virtual environment, it may use a different parser and behave differently.\n",
      "\n",
      "The code that caused this warning is on line 193 of the file C:\\Users\\admin\\Anaconda3\\lib\\runpy.py. To get rid of this warning, change code that looks like this:\n",
      "\n",
      " BeautifulSoup(YOUR_MARKUP})\n",
      "\n",
      "to this:\n",
      "\n",
      " BeautifulSoup(YOUR_MARKUP, \"lxml\")\n",
      "\n",
      "  markup_type=markup_type))\n"
     ]
    }
   ],
   "source": [
    "soup=BeautifulSoup(r.text)\n",
    "news_text=soup.select('div[itemprop=\"articleBody\"]')[0].text"
   ]
  },
  {
   "cell_type": "code",
   "execution_count": 14,
   "metadata": {
    "collapsed": true
   },
   "outputs": [],
   "source": [
    "import jieba\n",
    "import jieba.analyse"
   ]
  },
  {
   "cell_type": "code",
   "execution_count": 15,
   "metadata": {},
   "outputs": [],
   "source": [
    "jieba.set_dictionary('dict.txt.big')"
   ]
  },
  {
   "cell_type": "code",
   "execution_count": 16,
   "metadata": {},
   "outputs": [
    {
     "name": "stderr",
     "output_type": "stream",
     "text": [
      "Building prefix dict from D:\\anita的资料~\\碩班\\金融投資與程式交易\\2017FM617\\HW03\\dict.txt.big ...\n",
      "Dumping model to file cache C:\\Users\\admin\\AppData\\Local\\Temp\\jieba.u95601fdf60256fb8a7ff5fe29058e8bb.cache\n",
      "Loading model cost 2.979 seconds.\n",
      "Prefix dict has been built succesfully.\n"
     ]
    }
   ],
   "source": [
    "keywords=jieba.analyse.extract_tags(news_text,topK=20)"
   ]
  },
  {
   "cell_type": "code",
   "execution_count": 17,
   "metadata": {},
   "outputs": [
    {
     "name": "stdout",
     "output_type": "stream",
     "text": [
      "紫光/ 台股/ 因為/ 台灣/ 投資/ 坐收/ 美光/ 上週五/ 282.71/ 長黑/ 美股/ 時間/ 週六/ 309/ 漲點/ 8059/ 賣壓/ 外資/ 即將/ 內資\n"
     ]
    }
   ],
   "source": [
    "print (\"/ \".join(keywords))"
   ]
  },
  {
   "cell_type": "code",
   "execution_count": 18,
   "metadata": {},
   "outputs": [
    {
     "data": {
      "text/plain": [
       "\"[('紫光', 0.220259857898), ('台股', 0.21252920005155554), ('因為', 0.21252920005155554), ('台灣', 0.21252920005155554), ('投資', 0.15939690003866666), ('坐收', 0.14190108152), ('美光', 0.12356157912888889), ('上週五', 0.10626460002577777), ('282.71', 0.10626460002577777), ('長黑', 0.10626460002577777), ('美股', 0.10626460002577777), ('時間', 0.10626460002577777), ('週六', 0.10626460002577777), ('309', 0.10626460002577777), ('漲點', 0.10626460002577777), ('8059', 0.10626460002577777), ('賣壓', 0.10626460002577777), ('外資', 0.10626460002577777), ('即將', 0.10626460002577777), ('內資', 0.10626460002577777)]\""
      ]
     },
     "execution_count": 18,
     "metadata": {},
     "output_type": "execute_result"
    }
   ],
   "source": [
    "repr(jieba.analyse.extract_tags(news_text, topK=20, withWeight=True))"
   ]
  },
  {
   "cell_type": "code",
   "execution_count": 19,
   "metadata": {},
   "outputs": [
    {
     "data": {
      "text/plain": [
       "\"[('坐收', 1.0), ('主力', 0.9491100498195876), ('力成', 0.9491100498195876), ('回測', 0.8292445279738647), ('下跌', 0.7995540349091378), ('起漲', 0.6564906918460708), ('本波', 0.653387730698757), ('法人', 0.6432608427829624), ('看不出', 0.6432608427829624), ('角色', 0.6432608427829624), ('成交', 0.643075034630386), ('暗示', 0.643075034630386), ('台灣', 0.643075034630386), ('旗下', 0.643075034630386), ('預做', 0.643075034630386), ('操作', 0.6402403161002357), ('理由', 0.6402403161002357), ('扮演', 0.6402403161002357), ('作收', 0.6383402464561979), ('加上', 0.6383402464561979)]\""
      ]
     },
     "execution_count": 19,
     "metadata": {},
     "output_type": "execute_result"
    }
   ],
   "source": [
    "repr(jieba.analyse.textrank(news_text, topK=20, withWeight=True))"
   ]
  },
  {
   "cell_type": "code",
   "execution_count": 20,
   "metadata": {
    "collapsed": true
   },
   "outputs": [],
   "source": [
    "def index_of_keyword(sentences, keyword):\n",
    "    for i, s in enumerate(sentences):\n",
    "        if keyword in s:\n",
    "              return i\n",
    "    return -1"
   ]
  },
  {
   "cell_type": "code",
   "execution_count": 21,
   "metadata": {},
   "outputs": [
    {
     "data": {
      "text/plain": [
       "13"
      ]
     },
     "execution_count": 21,
     "metadata": {},
     "output_type": "execute_result"
    }
   ],
   "source": [
    "sentences = news_text.replace(\"\\n\",\"\").split(u\"。\")\n",
    "len(sentences)"
   ]
  },
  {
   "cell_type": "code",
   "execution_count": 22,
   "metadata": {},
   "outputs": [
    {
     "name": "stdout",
     "output_type": "stream",
     "text": [
      "台股上週五因為信心不足，終場下跌100.28點，以8115.89點作收，成交值874.35億元；周線則以下跌282.71點收長黑。\n",
      "展望今(14)日台股，美股在台灣時間上週六清晨以重挫309點坐收，內外交迫，今天恐回測本波起漲點8059點。\n",
      "回顧上週的台股，上週五周線以長黑的下跌282.71點坐收，賣壓蓋頭，主要是內、外資都不挺台股，主力股、法人股的籌碼面混亂。\n",
      "外資因為美國FED即將升息，在期、現聯手偏空操作，內資法人則是因為年底做賬，獲利了結出場。\n",
      " 而在台灣時間上週六(12日)清晨收盤的美股，則因油價接近7年低點，加上併購案暗示經濟不佳，道瓊以重挫309點坐收，再度不利台股的止跌回升。\n",
      "法人預期，若是外、內資繼續賣超台股，今天恐將回測本波起漲點8059點。\n",
      "在此賣壓籠罩的盤勢之下，低P/E、高現金殖利率或產業即將谷底翻升的個股，是現階段可以逢低酌量佈局的投資標的。\n",
      "重大新聞方面，焦點還是中國紫光在台灣與全球的併購。\n",
      "國民黨總統候選人朱立倫日前表態，IC設計產業對台灣經濟非常敏感，若他當選總統，不會允許IC設計業對中國開放投資，因為現在時機尚未成熟。\n",
      "而紫光集團董事長趙偉國昨日對媒體表示，投資力成、矽品與南茂，和軍事、安全沒有關係，紫光也不謀求對企業的控制權，更不存在壟斷問題，他看不出不批准的理由。\n",
      "另一方面，紫光集團下一步將爭取入股美光及英特爾兩大握有記憶體關鍵技術的大廠，合作案已進入緊鑼密鼓階段。\n",
      "值此之際，台廠再度扮演關鍵角色，美光近期將整合旗下華亞科、瑞晶等廠區製造資源，以為與紫光合作預做準備。\n",
      "。\n"
     ]
    }
   ],
   "source": [
    "for sentence in sentences:\n",
    "    print (sentence + u\"。\")"
   ]
  },
  {
   "cell_type": "code",
   "execution_count": 24,
   "metadata": {},
   "outputs": [
    {
     "name": "stdout",
     "output_type": "stream",
     "text": [
      "重大新聞方面，焦點還是中國紫光在台灣與全球的併購。\n"
     ]
    }
   ],
   "source": [
    "index_of_keyword(sentences,u\"紫光\")\n",
    "print (sentences[index_of_keyword(sentences,u\"紫光\")]+u\"。\")"
   ]
  },
  {
   "cell_type": "code",
   "execution_count": 25,
   "metadata": {},
   "outputs": [
    {
     "data": {
      "text/plain": [
       "64"
      ]
     },
     "execution_count": 25,
     "metadata": {},
     "output_type": "execute_result"
    }
   ],
   "source": [
    "len(sentences[0])"
   ]
  },
  {
   "cell_type": "code",
   "execution_count": 26,
   "metadata": {
    "collapsed": true
   },
   "outputs": [],
   "source": [
    "s_index = []\n",
    "for keyword in keywords[:3]:\n",
    "    s_index.append(index_of_keyword(sentences,keyword))\n",
    "\n",
    "s_set = set(s_index)\n",
    "s_index = list(s_set)"
   ]
  },
  {
   "cell_type": "code",
   "execution_count": 27,
   "metadata": {
    "collapsed": true
   },
   "outputs": [],
   "source": [
    "summary = \"\"\n",
    "for i in s_index:\n",
    "    summary += sentences[i]+u\"。\""
   ]
  },
  {
   "cell_type": "code",
   "execution_count": 28,
   "metadata": {},
   "outputs": [
    {
     "name": "stdout",
     "output_type": "stream",
     "text": [
      "台股上週五因為信心不足，終場下跌100.28點，以8115.89點作收，成交值874.35億元；周線則以下跌282.71點收長黑。重大新聞方面，焦點還是中國紫光在台灣與全球的併購。\n"
     ]
    }
   ],
   "source": [
    "print (summary)"
   ]
  }
 ],
 "metadata": {
  "kernelspec": {
   "display_name": "Python 3",
   "language": "python",
   "name": "python3"
  }
 },
 "nbformat": 4,
 "nbformat_minor": 2
}
